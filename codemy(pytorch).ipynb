{
  "nbformat": 4,
  "nbformat_minor": 0,
  "metadata": {
    "colab": {
      "provenance": [],
      "gpuType": "T4",
      "authorship_tag": "ABX9TyNYeWh107n6aVpiaWfe46kO",
      "include_colab_link": true
    },
    "kernelspec": {
      "name": "python3",
      "display_name": "Python 3"
    },
    "language_info": {
      "name": "python"
    },
    "accelerator": "GPU"
  },
  "cells": [
    {
      "cell_type": "markdown",
      "metadata": {
        "id": "view-in-github",
        "colab_type": "text"
      },
      "source": [
        "<a href=\"https://colab.research.google.com/github/flyrey3/codemy-pytorch-/blob/main/codemy(pytorch).ipynb\" target=\"_parent\"><img src=\"https://colab.research.google.com/assets/colab-badge.svg\" alt=\"Open In Colab\"/></a>"
      ]
    },
    {
      "cell_type": "code",
      "source": [
        "import torch\n",
        "import torch.nn as nn\n",
        "import torch.nn.functional as func\n",
        "import matplotlib.pyplot as plt\n",
        "import pandas as pd\n",
        "from sklearn.model_selection import train_test_split\n",
        "\n",
        "%matplotlib inline"
      ],
      "metadata": {
        "id": "qTyzF1VokqDr"
      },
      "execution_count": 187,
      "outputs": []
    },
    {
      "cell_type": "code",
      "source": [
        "class Model(nn.Module):\n",
        "  def __init__(self, input_features=4, h1=8, h2=9, output_features=3):\n",
        "    super().__init__()\n",
        "    self.layer1 = nn.Linear(input_features, h1)\n",
        "    self.layer2 = nn.Linear(h1, h2)\n",
        "    self.output = nn.Linear(h2, output_features)\n",
        "\n",
        "  def forward(self, x):\n",
        "    x = func.relu(self.layer1(x))\n",
        "    x = func.relu(self.layer2(x))\n",
        "    x = self.output(x)\n",
        "\n",
        "    return x\n"
      ],
      "metadata": {
        "id": "1YsavRKEp8zV"
      },
      "execution_count": 188,
      "outputs": []
    },
    {
      "cell_type": "code",
      "source": [
        "model = Model()\n",
        "torch.manual_seed(45)\n",
        "\n",
        "url = \"https://gist.githubusercontent.com/netj/8836201/raw/6f9306ad21398ea43cba4f7d537619d0e07d5ae3/iris.csv\"\n",
        "dataframe = pd.read_csv(url)\n",
        "dataframe['variety'] = dataframe['variety'].replace('Setosa', 0.0)\n",
        "dataframe['variety'] = dataframe['variety'].replace('Versicolor', 1.0)\n",
        "dataframe['variety'] = dataframe['variety'].replace('Virginica', 0.0)\n"
      ],
      "metadata": {
        "id": "JeSMzNW_sT_k"
      },
      "execution_count": 189,
      "outputs": []
    },
    {
      "cell_type": "code",
      "source": [
        "X = dataframe.drop('variety', axis=1)\n",
        "y = dataframe['variety']\n",
        "\n",
        "X = X.values\n",
        "y = y.values\n",
        "\n",
        "X_train, X_test, y_train, y_test = train_test_split(X,\n",
        "                                                    y,\n",
        "                                                    test_size=0.2,\n",
        "                                                    random_state=33)\n",
        "\n",
        "X_train = torch.FloatTensor(X_train)\n",
        "X_test = torch.FloatTensor(X_test)\n",
        "\n",
        "y_train = torch.LongTensor(y_train)\n",
        "y_test = torch.LongTensor(y_test)"
      ],
      "metadata": {
        "id": "jLUL5rfdwRJE"
      },
      "execution_count": 190,
      "outputs": []
    },
    {
      "cell_type": "code",
      "source": [
        "criterion = nn.CrossEntropyLoss()\n",
        "optimizer = torch.optim.Adam(model.parameters(), lr=0.01)"
      ],
      "metadata": {
        "id": "DihONXtPz79o"
      },
      "execution_count": 191,
      "outputs": []
    },
    {
      "cell_type": "code",
      "source": [
        "times = 125\n",
        "losses = []\n",
        "\n",
        "for iter in range(times):\n",
        "  y_pred = model.forward(X_train)\n",
        "\n",
        "  loss = criterion(y_pred, y_train)\n",
        "  losses.append(loss.detach().numpy())\n",
        "\n",
        "  if iter % 10 == 0:\n",
        "    print(f\"{iter} & {loss}\")\n",
        "\n",
        "  optimizer.zero_grad()\n",
        "  loss.backward()\n",
        "  optimizer.step()\n"
      ],
      "metadata": {
        "colab": {
          "base_uri": "https://localhost:8080/"
        },
        "id": "r4CtMPOH0w4T",
        "outputId": "12d8f831-1d40-45f9-fe6e-ffdace057c71"
      },
      "execution_count": 194,
      "outputs": [
        {
          "output_type": "stream",
          "name": "stdout",
          "text": [
            "0 & 0.05226467549800873\n",
            "10 & 0.05102791264653206\n",
            "20 & 0.04990024492144585\n",
            "30 & 0.048919789493083954\n",
            "40 & 0.04804626852273941\n",
            "50 & 0.04726850986480713\n",
            "60 & 0.04656525328755379\n",
            "70 & 0.046262893825769424\n",
            "80 & 0.04542040079832077\n",
            "90 & 0.04507523775100708\n",
            "100 & 0.044693637639284134\n",
            "110 & 0.0443030521273613\n",
            "120 & 0.043942056596279144\n"
          ]
        }
      ]
    },
    {
      "cell_type": "code",
      "source": [
        "plt.plot(range(times), losses)\n",
        "plt.ylabel('Loss/error')\n",
        "plt.xlabel('Iteration')"
      ],
      "metadata": {
        "colab": {
          "base_uri": "https://localhost:8080/",
          "height": 466
        },
        "id": "ijk-7t-h6czx",
        "outputId": "614af1bf-a446-46e5-8d64-c2214187dd03"
      },
      "execution_count": 193,
      "outputs": [
        {
          "output_type": "execute_result",
          "data": {
            "text/plain": [
              "Text(0.5, 0, 'Iteration')"
            ]
          },
          "metadata": {},
          "execution_count": 193
        },
        {
          "output_type": "display_data",
          "data": {
            "text/plain": [
              "<Figure size 640x480 with 1 Axes>"
            ],
            "image/png": "[encoded data removed]"
          },
          "metadata": {}
        }
      ]
    }
  ]
}